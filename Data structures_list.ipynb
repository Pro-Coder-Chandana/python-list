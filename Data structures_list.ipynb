{
 "cells": [
  {
   "cell_type": "markdown",
   "id": "7b476f8e",
   "metadata": {},
   "source": [
    "# Python Data Structures"
   ]
  },
  {
   "cell_type": "markdown",
   "id": "e05ea084",
   "metadata": {},
   "source": [
    "## Python Lists( Mutable )\n",
    "\n",
    "\n",
    "Definition:-\n",
    "\n",
    "1.A list is a ordered collection of elements of different datatypes,enclosed within the square brachets and separeted by the cammas\n",
    "\n",
    "we can access the elements from the list by using the index number\n",
    " \n",
    " 2.List items are indexed and you can access them by referring to the index number:"
   ]
  },
  {
   "cell_type": "code",
   "execution_count": null,
   "id": "0122b8b4",
   "metadata": {},
   "outputs": [],
   "source": [
    "x=\"python\"\n",
    "print(x[::])"
   ]
  },
  {
   "cell_type": "code",
   "execution_count": 2,
   "id": "77b0b735",
   "metadata": {},
   "outputs": [
    {
     "data": {
      "text/plain": [
       "[1, 122, 'python', 12.0]"
      ]
     },
     "execution_count": 2,
     "metadata": {},
     "output_type": "execute_result"
    }
   ],
   "source": [
    "x=[1,122,\"python\",12.0]   # []  # 0  \n",
    "x"
   ]
  },
  {
   "cell_type": "code",
   "execution_count": 51,
   "id": "28250d27",
   "metadata": {},
   "outputs": [
    {
     "name": "stdout",
     "output_type": "stream",
     "text": [
      "3\n"
     ]
    }
   ],
   "source": [
    "x=[1,122,122,3,3,7]  #[]   # 0 to n-1\n",
    "y=x[4]\n",
    "print(y)\n",
    "# y={1,2,3,4,2} # { }\n",
    "# print(y) \n",
    "# print(type(y))"
   ]
  },
  {
   "cell_type": "code",
   "execution_count": 5,
   "id": "8503eb24",
   "metadata": {},
   "outputs": [
    {
     "name": "stdout",
     "output_type": "stream",
     "text": [
      "['Mathematics', 1729, 9, 10, 17.34, 9, 9, 9, 9]\n",
      "<class 'list'>\n"
     ]
    }
   ],
   "source": [
    "# Defining the list   # List items are ordered, changeable, and allow duplicate values.\n",
    "My_list = [\"Mathematics\",1729,9,10,17.34,9,9,9,9]\n",
    "\n",
    "# Displaying the list\n",
    "print(My_list)\n",
    "\n",
    "# Displaying the datatype of My_list\n",
    "print(type(My_list))"
   ]
  },
  {
   "cell_type": "markdown",
   "id": "134422ca",
   "metadata": {},
   "source": [
    "### We can us the for loop to display the list elements"
   ]
  },
  {
   "cell_type": "code",
   "execution_count": 4,
   "id": "3e7bf4b8",
   "metadata": {},
   "outputs": [
    {
     "name": "stdout",
     "output_type": "stream",
     "text": [
      "012345"
     ]
    }
   ],
   "source": [
    "for i in range(6): # 0 to n-1\n",
    "    print(i,end=\"\")"
   ]
  },
  {
   "cell_type": "code",
   "execution_count": 8,
   "id": "01c2924b",
   "metadata": {},
   "outputs": [
    {
     "name": "stdout",
     "output_type": "stream",
     "text": [
      "Mathematics\n",
      "1729\n",
      "9\n",
      "10\n",
      "17.34\n",
      "['Mathematics', 1729, 9, 10, 17.34]\n"
     ]
    }
   ],
   "source": [
    "My_list = [\"Mathematics\",1729,9,10,17.34]\n",
    "\n",
    "# Displaying the elements using the for loop\n",
    "for i in My_list:   # \n",
    "    print(i)\n",
    "print(My_list)"
   ]
  },
  {
   "cell_type": "code",
   "execution_count": 11,
   "id": "4abee1b4",
   "metadata": {},
   "outputs": [
    {
     "name": "stdout",
     "output_type": "stream",
     "text": [
      "python\n"
     ]
    }
   ],
   "source": [
    "x=\"python\"\n",
    "print(x)"
   ]
  },
  {
   "cell_type": "code",
   "execution_count": 21,
   "id": "80425862",
   "metadata": {},
   "outputs": [
    {
     "name": "stdout",
     "output_type": "stream",
     "text": [
      "p\n",
      "python\n",
      "y\n",
      "python\n",
      "t\n",
      "python\n",
      "h\n",
      "python\n",
      "o\n",
      "python\n",
      "n\n",
      "python\n"
     ]
    }
   ],
   "source": [
    "x=\"python\"\n",
    "for i in x:\n",
    "    print(i)  # p \n",
    "    print(x)  # python\n",
    "    #         # y\n",
    "              # python "
   ]
  },
  {
   "cell_type": "code",
   "execution_count": 1,
   "id": "be79388d",
   "metadata": {
    "scrolled": true
   },
   "outputs": [
    {
     "name": "stdout",
     "output_type": "stream",
     "text": [
      "1\n",
      "1234567\n",
      "2\n",
      "1234567\n",
      "3\n",
      "1234567\n",
      "4\n",
      "1234567\n",
      "5\n",
      "1234567\n",
      "6\n",
      "1234567\n",
      "7\n",
      "1234567\n"
     ]
    }
   ],
   "source": [
    "a=\"1234567\"\n",
    "for x in a:\n",
    "    print(x)\n",
    "    print(a)"
   ]
  },
  {
   "cell_type": "code",
   "execution_count": 5,
   "id": "1acbdf8f",
   "metadata": {},
   "outputs": [
    {
     "name": "stdout",
     "output_type": "stream",
     "text": [
      "python\n",
      "22\n",
      "list\n"
     ]
    }
   ],
   "source": [
    "c=[\"python\",22,\"list\"]\n",
    "for i in c:\n",
    "    print(i)"
   ]
  },
  {
   "cell_type": "code",
   "execution_count": 6,
   "id": "49c7f871",
   "metadata": {},
   "outputs": [
    {
     "name": "stdout",
     "output_type": "stream",
     "text": [
      "python\n",
      "['python', 'code', 'list']\n",
      "code\n",
      "['python', 'code', 'list']\n",
      "list\n",
      "['python', 'code', 'list']\n"
     ]
    }
   ],
   "source": [
    "x=[\"python\",\"code\",\"list\"]\n",
    "for j in x:\n",
    "    print(j)\n",
    "    print(x)"
   ]
  },
  {
   "cell_type": "code",
   "execution_count": 25,
   "id": "1db5dde2",
   "metadata": {},
   "outputs": [
    {
     "name": "stdout",
     "output_type": "stream",
     "text": [
      "9\n",
      "0\n",
      "1\n",
      "2\n",
      "3\n",
      "4\n",
      "5\n",
      "6\n",
      "4\n",
      "5\n"
     ]
    }
   ],
   "source": [
    "y=[0,1,2,3,4,5,6,4,5]  # 1 # 0 to n-1\n",
    "print(len(y))\n",
    "for num in y:\n",
    "    print(num)"
   ]
  },
  {
   "cell_type": "code",
   "execution_count": 14,
   "id": "0ce35f64",
   "metadata": {},
   "outputs": [
    {
     "name": "stdout",
     "output_type": "stream",
     "text": [
      "3\n",
      "1\n",
      "2\n",
      "3\n"
     ]
    }
   ],
   "source": [
    "x=[\"1\",\"2\",\"3\"]\n",
    "print(len(x))\n",
    "for i in x:\n",
    "    print(i)"
   ]
  },
  {
   "cell_type": "markdown",
   "id": "59f3ad77",
   "metadata": {},
   "source": [
    "### We can access the list elements with indexing"
   ]
  },
  {
   "cell_type": "code",
   "execution_count": 34,
   "id": "cffd436d",
   "metadata": {},
   "outputs": [
    {
     "name": "stdout",
     "output_type": "stream",
     "text": [
      "pyt\n"
     ]
    }
   ],
   "source": [
    "a=\"python\"\n",
    "print(a[0:3]) # s : st: stp"
   ]
  },
  {
   "cell_type": "code",
   "execution_count": 6,
   "id": "9998a307",
   "metadata": {},
   "outputs": [
    {
     "name": "stdout",
     "output_type": "stream",
     "text": [
      "Mathematics\n",
      "1729\n",
      "['Mathematics', 1729, 9, 10]\n",
      "['Mathematics', 9, 17.34, 'hi']\n"
     ]
    }
   ],
   "source": [
    "My_list = [\"Mathematics\",1729,9,10,17.34,\"welcome\",\"hi\",\"python\",True]\n",
    "\n",
    "# Accessing the elements with index number,By forward direction which is ingeneral defined as (0 to n-1),where n is length of list\n",
    "print(My_list[0])\n",
    "print(My_list[1])\n",
    "#print(My_list[2])\n",
    "##print(My_list[3])\n",
    "##print(My_list[4])\n",
    "#print(My_list[6])\n",
    "print(My_list[0:4]) # n-1\n",
    "print(My_list[0:8:2])# \n",
    "#print(My_list[1:8:2])"
   ]
  },
  {
   "cell_type": "code",
   "execution_count": 35,
   "id": "19d9680c",
   "metadata": {
    "scrolled": true
   },
   "outputs": [
    {
     "name": "stdout",
     "output_type": "stream",
     "text": [
      "8\n",
      "python\n",
      "hi\n",
      "welcome\n",
      "17.34\n",
      "10\n"
     ]
    }
   ],
   "source": [
    "x = [\"Mathematics\",1729,9,10,17.34,\"welcome\",\"hi\",\"python\"]  # 1 \n",
    "print(len(x))\n",
    "\n",
    "# Accessing the elements with index number,By dackward direction which is ingeneral defined as (-1 to -n),where n is length of list\n",
    "print(x[-1])\n",
    "print(x[-2])\n",
    "print(x[-3])\n",
    "print(x[-4])\n",
    "print(x[-5])"
   ]
  },
  {
   "cell_type": "code",
   "execution_count": 17,
   "id": "e77a4731",
   "metadata": {},
   "outputs": [
    {
     "name": "stdout",
     "output_type": "stream",
     "text": [
      "python\n",
      "nohtyp\n"
     ]
    }
   ],
   "source": [
    "x=\"python\"\n",
    "print(x)\n",
    "print(x[::-1])  #  "
   ]
  },
  {
   "cell_type": "code",
   "execution_count": 8,
   "id": "b0650cb1",
   "metadata": {},
   "outputs": [
    {
     "name": "stdout",
     "output_type": "stream",
     "text": [
      "5\n"
     ]
    }
   ],
   "source": [
    "x=[1,2,3,\"ewfdyewf\",12.6] # 1  \n",
    "print(len(x))\n",
    "#x[2]"
   ]
  },
  {
   "cell_type": "markdown",
   "id": "0188d27e",
   "metadata": {},
   "source": [
    "- Slicing with a Stop Value:\n",
    "\n",
    "When you specify a stop value in slicing (e.g., x[start:stop]), the slice includes elements from the start index up to, but not including, the stop index.\n",
    "This means the slice will include elements from start up to stop-1.\n",
    "\n",
    "- Single Index:\n",
    "\n",
    "When using a single index (e.g., x[index]), it directly retrieves the element at that index position."
   ]
  },
  {
   "cell_type": "markdown",
   "id": "462d3189",
   "metadata": {},
   "source": [
    "### If we try to access the elements from the out of the list length, then it will raise an ERROR"
   ]
  },
  {
   "cell_type": "code",
   "execution_count": 39,
   "id": "516d06f6",
   "metadata": {},
   "outputs": [
    {
     "name": "stdout",
     "output_type": "stream",
     "text": [
      "List length is : 8\n"
     ]
    },
    {
     "ename": "IndexError",
     "evalue": "list index out of range",
     "output_type": "error",
     "traceback": [
      "\u001b[1;31m---------------------------------------------------------------------------\u001b[0m",
      "\u001b[1;31mIndexError\u001b[0m                                Traceback (most recent call last)",
      "\u001b[1;32m~\\AppData\\Local\\Temp\\ipykernel_7892\\1188268700.py\u001b[0m in \u001b[0;36m<module>\u001b[1;34m\u001b[0m\n\u001b[0;32m      9\u001b[0m \u001b[0mprint\u001b[0m\u001b[1;33m(\u001b[0m\u001b[1;34m\"List length is :\"\u001b[0m\u001b[1;33m,\u001b[0m\u001b[0mlen\u001b[0m\u001b[1;33m(\u001b[0m\u001b[0mMy_list\u001b[0m\u001b[1;33m)\u001b[0m\u001b[1;33m)\u001b[0m\u001b[1;33m\u001b[0m\u001b[1;33m\u001b[0m\u001b[0m\n\u001b[0;32m     10\u001b[0m \u001b[1;33m\u001b[0m\u001b[0m\n\u001b[1;32m---> 11\u001b[1;33m \u001b[0mprint\u001b[0m\u001b[1;33m(\u001b[0m\u001b[0mMy_list\u001b[0m\u001b[1;33m[\u001b[0m\u001b[1;36m9\u001b[0m\u001b[1;33m]\u001b[0m\u001b[1;33m)\u001b[0m\u001b[1;33m\u001b[0m\u001b[1;33m\u001b[0m\u001b[0m\n\u001b[0m\u001b[0;32m     12\u001b[0m \u001b[0mprint\u001b[0m\u001b[1;33m(\u001b[0m\u001b[0mMy_list\u001b[0m\u001b[1;33m[\u001b[0m\u001b[1;36m5\u001b[0m\u001b[1;33m]\u001b[0m\u001b[1;33m)\u001b[0m\u001b[1;33m\u001b[0m\u001b[1;33m\u001b[0m\u001b[0m\n",
      "\u001b[1;31mIndexError\u001b[0m: list index out of range"
     ]
    }
   ],
   "source": [
    "My_list = [\"Mathematics\",1729,9,10,17.34,12,24,45]  # 5\n",
    "\n",
    "\"\"\"\n",
    "\n",
    "In the above list we have only 5 elements which are index from the 0 to 4.\n",
    "If we try to access the element from the index number morethan the 4, it will raise an ERROR \n",
    "\n",
    "\"\"\"\n",
    "print(\"List length is :\",len(My_list))\n",
    "\n",
    "print(My_list[9])\n",
    "print(My_list[5])"
   ]
  },
  {
   "cell_type": "markdown",
   "id": "80027063",
   "metadata": {},
   "source": [
    "### If a list contain another list then it is know as \"NESTED LIST\""
   ]
  },
  {
   "cell_type": "code",
   "execution_count": 10,
   "id": "6e734dcc",
   "metadata": {},
   "outputs": [
    {
     "name": "stdout",
     "output_type": "stream",
     "text": [
      "12\n",
      "0\n",
      "7\n",
      "a\n"
     ]
    }
   ],
   "source": [
    "x=[1,2,3,4,0,5,6,7,9,11,12,13] # 12\n",
    "print(len(x))\n",
    "print(x[4])\n",
    "y=[1,2,3,4,[\"a\",5,6,7],9,11] #7 \n",
    "print(len(y))\n",
    "print(y[4][0])"
   ]
  },
  {
   "cell_type": "code",
   "execution_count": 52,
   "id": "b7d78dae",
   "metadata": {},
   "outputs": [
    {
     "name": "stdout",
     "output_type": "stream",
     "text": [
      "0\n",
      "6\n",
      "11\n"
     ]
    }
   ],
   "source": [
    "# x=[1,2,3,4,0,5,6,7,9,11] # 10\n",
    "# #print(len(x))\n",
    "# print(x[4])\n",
    "\n",
    "\n",
    "# y=[1,2,3,4,[0,5,6,7],9,11]#7\n",
    "# #print(len(y))\n",
    "# print(y[4][2])\n",
    "# print(y[6])   \n",
    "    \n",
    "    \n",
    "    "
   ]
  },
  {
   "cell_type": "code",
   "execution_count": 54,
   "id": "a940cd05",
   "metadata": {},
   "outputs": [
    {
     "name": "stdout",
     "output_type": "stream",
     "text": [
      "[1, 2, [3, 4, 5], 6]\n",
      "4\n",
      "[3, 4, 5]\n",
      "4\n"
     ]
    }
   ],
   "source": [
    "#Basic Nested List\n",
    "my_list = [1, 2, [3, 4, 5], 6]\n",
    "print(my_list)\n",
    "print(len(my_list))\n",
    "\n",
    "\n",
    "# Access the nested list\n",
    "print(my_list[2])\n",
    "\n",
    "# Access an element within the nested list\n",
    "print(my_list[2][1])  # Output: 4\n"
   ]
  },
  {
   "cell_type": "code",
   "execution_count": 11,
   "id": "2ba779da",
   "metadata": {},
   "outputs": [
    {
     "name": "stdout",
     "output_type": "stream",
     "text": [
      "8\n",
      "abc\n"
     ]
    }
   ],
   "source": [
    "x=[1,2,3,[4,5,6],7,9,0,[\"abc\",1,3,5]]\n",
    "print(len(x))\n",
    "print(x[7][0])\n",
    "# x[7]\n",
    "# y=[1,2,3,4,5,6,7,9,0,1,3,5]\n",
    "# y[6]\n",
    "# # x=\"python\"\n",
    "# # x[0:5]"
   ]
  },
  {
   "cell_type": "code",
   "execution_count": 85,
   "id": "2d2ba467",
   "metadata": {
    "scrolled": true
   },
   "outputs": [
    {
     "name": "stdout",
     "output_type": "stream",
     "text": [
      "a\n"
     ]
    }
   ],
   "source": [
    "My_list = [\"Mathematics\",1729,9,10,17.34,[1,2,3,4,\"a\",\"Apple\",22.21],[1,2,3,4,5,6,7,8,8,9]]\n",
    "#print(My_list)\n",
    "\n",
    "# Accesssing the nested list from main list\n",
    "#print(My_list[6][9])   # here we just extracting the inner list \n",
    "print(My_list[5][4])"
   ]
  },
  {
   "cell_type": "code",
   "execution_count": 17,
   "id": "e1984e37",
   "metadata": {},
   "outputs": [
    {
     "name": "stdout",
     "output_type": "stream",
     "text": [
      "2\n"
     ]
    }
   ],
   "source": [
    "My_list = [\"Mathematics\",1729,9,10,17.34,[1,2,3,4,\"a\",\"Apple\",22.21]]\n",
    "print(My_list[5][1])"
   ]
  },
  {
   "cell_type": "markdown",
   "id": "626c6a5e",
   "metadata": {},
   "source": [
    "Now, if we want to extrat the \"Apple\" from the \"My_list\""
   ]
  },
  {
   "cell_type": "code",
   "execution_count": 7,
   "id": "66a41177",
   "metadata": {},
   "outputs": [
    {
     "name": "stdout",
     "output_type": "stream",
     "text": [
      "Apple\n"
     ]
    }
   ],
   "source": [
    "My_list = [\"Mathematics\",1729,9,10,17.34,[1,2,3,4,\"a\",\"Apple\",22.21]]\n",
    "\n",
    "print(My_list[5][5])  "
   ]
  },
  {
   "cell_type": "code",
   "execution_count": 8,
   "id": "a2a59c5c",
   "metadata": {},
   "outputs": [
    {
     "name": "stdout",
     "output_type": "stream",
     "text": [
      "22.21\n"
     ]
    }
   ],
   "source": [
    "My_list = [\"Mathematics\",1729,9,10,17.34,[1,2,3,4,\"a\",\"Apple\",22.21]]\n",
    "\n",
    "print(My_list[5][6])  "
   ]
  },
  {
   "cell_type": "code",
   "execution_count": 13,
   "id": "92074660",
   "metadata": {},
   "outputs": [
    {
     "name": "stdout",
     "output_type": "stream",
     "text": [
      "17.34\n"
     ]
    }
   ],
   "source": [
    "My_list = [\"Mathematics\",1729,9,10,17.34,[1,2,3,4,\"a\",\"Apple\",22.21]]\n",
    "print(My_list[4]) "
   ]
  },
  {
   "cell_type": "code",
   "execution_count": 91,
   "id": "9a08affc",
   "metadata": {},
   "outputs": [
    {
     "name": "stdout",
     "output_type": "stream",
     "text": [
      "a\n"
     ]
    }
   ],
   "source": [
    "My_list = [\"Mathematics\",1729,9,10,17.34,[1,2,3,4,\"a\",\"Apple\",22.21]]\n",
    "print(My_list[5][4])"
   ]
  },
  {
   "cell_type": "code",
   "execution_count": null,
   "id": "82f07d9c",
   "metadata": {},
   "outputs": [],
   "source": []
  },
  {
   "cell_type": "markdown",
   "id": "d5af2bd8",
   "metadata": {},
   "source": [
    "# Allow Duplicates"
   ]
  },
  {
   "cell_type": "code",
   "execution_count": 14,
   "id": "b183f458",
   "metadata": {},
   "outputs": [
    {
     "name": "stdout",
     "output_type": "stream",
     "text": [
      "['apple', 'banana', 'cherry', 'apple', 'cherry']\n"
     ]
    }
   ],
   "source": [
    "# Lists allow duplicate values\n",
    "x= [\"apple\", \"banana\", \"cherry\", \"apple\", \"cherry\"]\n",
    "print(x)\n"
   ]
  },
  {
   "cell_type": "code",
   "execution_count": 15,
   "id": "704e6ea5",
   "metadata": {},
   "outputs": [
    {
     "name": "stdout",
     "output_type": "stream",
     "text": [
      "[1, 2, 3, 4, 2, 1, 4, 1, 11, 1]\n"
     ]
    }
   ],
   "source": [
    "y=[1,2,3,4,2,1,4,1,11,1]\n",
    "print(y)"
   ]
  },
  {
   "cell_type": "markdown",
   "id": "56b415b4",
   "metadata": {},
   "source": [
    "# List Length\n",
    "To determine how many items a list has, use the len() function"
   ]
  },
  {
   "cell_type": "code",
   "execution_count": 15,
   "id": "3c872153",
   "metadata": {},
   "outputs": [
    {
     "name": "stdout",
     "output_type": "stream",
     "text": [
      "5\n"
     ]
    }
   ],
   "source": [
    "x= [\"apple\", \"banana\", \"cherry\", \"apple\", \"cherry\"] # 1\n",
    "print(len(x))"
   ]
  },
  {
   "cell_type": "code",
   "execution_count": 18,
   "id": "37939bcc",
   "metadata": {},
   "outputs": [
    {
     "name": "stdout",
     "output_type": "stream",
     "text": [
      "6\n"
     ]
    }
   ],
   "source": [
    "x=[1,2,3,4,5,6]\n",
    "print(len(x))"
   ]
  },
  {
   "cell_type": "markdown",
   "id": "9576b655",
   "metadata": {},
   "source": [
    "# List Items - Data Types\n",
    "List items can be of any data type:"
   ]
  },
  {
   "cell_type": "code",
   "execution_count": 12,
   "id": "8ab67099",
   "metadata": {},
   "outputs": [
    {
     "name": "stdout",
     "output_type": "stream",
     "text": [
      "<class 'bool'>\n"
     ]
    }
   ],
   "source": [
    "x=True\n",
    "print(type(x))"
   ]
  },
  {
   "cell_type": "code",
   "execution_count": 16,
   "id": "73e34f92",
   "metadata": {},
   "outputs": [
    {
     "name": "stdout",
     "output_type": "stream",
     "text": [
      "['apple', 'banana', 'cherry']\n",
      "[1, 5, 7, 9, 3]\n",
      "[True, False, False]\n"
     ]
    }
   ],
   "source": [
    "#String, int and boolean data types\n",
    "list1 = [\"apple\", \"banana\", \"cherry\"]\n",
    "list2 = [1, 5, 7, 9, 3]\n",
    "list3 = [True, False, False]\n",
    "\n",
    "print(list1)\n",
    "print(list2)\n",
    "print(list3)\n"
   ]
  },
  {
   "cell_type": "markdown",
   "id": "30e6ec25",
   "metadata": {},
   "source": [
    "# Python - Access List Items\n",
    "List items are indexed and you can access them by referring to the index number"
   ]
  },
  {
   "cell_type": "code",
   "execution_count": 13,
   "id": "3a82d803",
   "metadata": {},
   "outputs": [
    {
     "name": "stdout",
     "output_type": "stream",
     "text": [
      "cherry\n"
     ]
    }
   ],
   "source": [
    "x= [\"apple\", \"banana\", \"cherry\", \"apple\", \"cherry\"]\n",
    "print(x[2])"
   ]
  },
  {
   "cell_type": "code",
   "execution_count": 1,
   "id": "7f780b44",
   "metadata": {},
   "outputs": [
    {
     "name": "stdout",
     "output_type": "stream",
     "text": [
      "cherry\n"
     ]
    }
   ],
   "source": [
    "x= [\"apple\", \"banana\", \"cherry\", \"apple\", \"cherry\"]\n",
    "print(x[2])"
   ]
  },
  {
   "cell_type": "markdown",
   "id": "2f18b5dd",
   "metadata": {},
   "source": [
    "# Negative Indexing\n",
    "Negative indexing means start from the end\n",
    "\n",
    "-1 refers to the last item, -2 refers to the second last item etc."
   ]
  },
  {
   "cell_type": "code",
   "execution_count": 15,
   "id": "bfc3b9de",
   "metadata": {},
   "outputs": [
    {
     "name": "stdout",
     "output_type": "stream",
     "text": [
      "apple\n"
     ]
    }
   ],
   "source": [
    "x= [\"apple\", \"banana\", \"cherry\", \"apple\", \"cherry\"]\n",
    "print(x[-2])"
   ]
  },
  {
   "cell_type": "markdown",
   "id": "22bb48e8",
   "metadata": {},
   "source": [
    "# Range of Indexes\n",
    "You can specify a range of indexes by specifying where to start and where to end the range.\n",
    "\n",
    "When specifying a range, the return value will be a new list with the specified items."
   ]
  },
  {
   "cell_type": "code",
   "execution_count": 16,
   "id": "35c1aa1a",
   "metadata": {},
   "outputs": [
    {
     "name": "stdout",
     "output_type": "stream",
     "text": [
      "['apple', 'banana', 'cherry', 'apple']\n"
     ]
    }
   ],
   "source": [
    "x= [\"apple\", \"banana\", \"cherry\", \"apple\", \"cherry\"]\n",
    "print(x[0:4])  # n-1"
   ]
  },
  {
   "cell_type": "markdown",
   "id": "f5f2610e",
   "metadata": {},
   "source": [
    "# Range of Negative Indexes\n",
    "Specify negative indexes if you want to start the search from the end of the list:"
   ]
  },
  {
   "cell_type": "code",
   "execution_count": 21,
   "id": "c14f8358",
   "metadata": {},
   "outputs": [
    {
     "name": "stdout",
     "output_type": "stream",
     "text": [
      "['banana', 'cherry', 'apple']\n"
     ]
    }
   ],
   "source": [
    "x= [\"apple\", \"banana\", \"cherry\", \"apple\", \"cherry\"]  # n-1    #x[1:4] n-1\n",
    "print(x[-4:-1])"
   ]
  },
  {
   "cell_type": "code",
   "execution_count": 27,
   "id": "ab5cad90",
   "metadata": {},
   "outputs": [
    {
     "data": {
      "text/plain": [
       "[0, 1, 3]"
      ]
     },
     "execution_count": 27,
     "metadata": {},
     "output_type": "execute_result"
    }
   ],
   "source": [
    "y = [1, 2, 3, 4, 5, 6, 7, 9, 0, 1, 3, 5]\n",
    "y[-4:-1]  #The slice x[-4:-1] will include elements starting from x[-4] up to, but not including, x[-1]."
   ]
  },
  {
   "cell_type": "markdown",
   "id": "f7cea07b",
   "metadata": {},
   "source": [
    "# Check if Item Exists\n",
    "To determine \"if\" a specified item is present in a list use the \"in\"  keyword"
   ]
  },
  {
   "cell_type": "code",
   "execution_count": 94,
   "id": "035d5059",
   "metadata": {},
   "outputs": [
    {
     "name": "stdout",
     "output_type": "stream",
     "text": [
      "Yes, 'mango' is in the fruits list\n"
     ]
    }
   ],
   "source": [
    "# Check if \"apple\" is present in the list\n",
    "x= [\"apple\", \"banana\", \"cherry\",\"mango\",\"chandana\"]\n",
    "if \"chandana\" in x:\n",
    "  print(\"Yes, 'mango' is in the fruits list\")"
   ]
  },
  {
   "cell_type": "markdown",
   "id": "fa8d2371",
   "metadata": {},
   "source": [
    "# Python - Change List Items\n",
    "To change the value of a specific item, refer to the index number"
   ]
  },
  {
   "cell_type": "code",
   "execution_count": 96,
   "id": "f017a8fe",
   "metadata": {},
   "outputs": [
    {
     "name": "stdout",
     "output_type": "stream",
     "text": [
      "['apple', 'chandana', 'cherry']\n"
     ]
    }
   ],
   "source": [
    "# Change the second item\n",
    "x = [\"apple\", \"banana\", \"cherry\"]\n",
    "x[1] = \"chandana\"\n",
    "print(x)"
   ]
  },
  {
   "cell_type": "code",
   "execution_count": 97,
   "id": "29ec929a",
   "metadata": {},
   "outputs": [
    {
     "name": "stdout",
     "output_type": "stream",
     "text": [
      "[11, 22, 33, 44, 55, 66, 100]\n"
     ]
    }
   ],
   "source": [
    "y=[11,22,33,44,55,66,88]\n",
    "y[6]=100\n",
    "print(y)"
   ]
  },
  {
   "cell_type": "markdown",
   "id": "fa201941",
   "metadata": {},
   "source": [
    "# Change a Range of Item Values\n",
    "To change the value of items within a specific range, define a list with the new values, and refer to the range of index numbers where you want to insert the new values"
   ]
  },
  {
   "cell_type": "code",
   "execution_count": 24,
   "id": "f043a7af",
   "metadata": {},
   "outputs": [
    {
     "name": "stdout",
     "output_type": "stream",
     "text": [
      "['apple', 'blackcurrant', 'watermelon', 'orange', 'kiwi', 'mango']\n"
     ]
    }
   ],
   "source": [
    "x = [\"apple\", \"banana\", \"cherry\", \"orange\", \"kiwi\", \"mango\"]\n",
    "x[1:3] = [\"blackcurrant\", \"watermelon\"]\n",
    "print(x)"
   ]
  },
  {
   "cell_type": "code",
   "execution_count": 98,
   "id": "b9f4dd79",
   "metadata": {},
   "outputs": [
    {
     "name": "stdout",
     "output_type": "stream",
     "text": [
      "[12, 13, 14, 15, 16, 17]\n"
     ]
    }
   ],
   "source": [
    "y=[1,2,3,4,5,6,7,8,9]\n",
    "y[:]=[12,13,14,15,16,17]\n",
    "print(y)"
   ]
  },
  {
   "cell_type": "markdown",
   "id": "19c70a1a",
   "metadata": {},
   "source": [
    "# Insert Items\n",
    "To insert a new list item, without replacing any of the existing values, we can use the insert() method.\n",
    "\n",
    "The insert() method inserts an item at the specified index"
   ]
  },
  {
   "cell_type": "code",
   "execution_count": 66,
   "id": "6cac2365",
   "metadata": {},
   "outputs": [
    {
     "name": "stdout",
     "output_type": "stream",
     "text": [
      "['apple', 'watermelon', 'banana', 'cherry']\n"
     ]
    }
   ],
   "source": [
    "x = [\"apple\", \"banana\", \"cherry\"]\n",
    "x.insert(1, \"watermelon\")\n",
    "print(x)"
   ]
  },
  {
   "cell_type": "code",
   "execution_count": 16,
   "id": "61a241bb",
   "metadata": {},
   "outputs": [
    {
     "name": "stdout",
     "output_type": "stream",
     "text": [
      "['a', '12', 'b', 'c']\n"
     ]
    }
   ],
   "source": [
    "x=[\"a\",\"b\",\"c\"]\n",
    "x.insert(1,\"12\")\n",
    "print(x)"
   ]
  },
  {
   "cell_type": "code",
   "execution_count": 35,
   "id": "3903b583",
   "metadata": {
    "scrolled": true
   },
   "outputs": [
    {
     "name": "stdout",
     "output_type": "stream",
     "text": [
      "['a', 'b', 'c', '12', 'd', 'e']\n"
     ]
    }
   ],
   "source": [
    "x=[\"a\",\"b\",\"c\",\"d\",\"e\"]\n",
    "x.insert(3,\"12\")\n",
    "print(x)  # a b c 12 d e"
   ]
  },
  {
   "cell_type": "code",
   "execution_count": 37,
   "id": "df230963",
   "metadata": {},
   "outputs": [
    {
     "name": "stdout",
     "output_type": "stream",
     "text": [
      "[100, 1, 2, 3, 4, 5, 66]\n"
     ]
    }
   ],
   "source": [
    "y=[1,2,3,4,5,66]\n",
    "y.insert(0,100)\n",
    "print(y)"
   ]
  },
  {
   "cell_type": "markdown",
   "id": "6a2f9f3e",
   "metadata": {},
   "source": [
    "# Python - Add List Items\n",
    "\n",
    "To add an item to the end of the list, use the append() method"
   ]
  },
  {
   "cell_type": "code",
   "execution_count": 99,
   "id": "fb8cb748",
   "metadata": {},
   "outputs": [
    {
     "name": "stdout",
     "output_type": "stream",
     "text": [
      "['apple', 'banana', 'cherry', '122452']\n"
     ]
    }
   ],
   "source": [
    "t = [\"apple\", \"banana\", \"cherry\"]\n",
    "t.append(\"122452\")\n",
    "print(t)"
   ]
  },
  {
   "cell_type": "code",
   "execution_count": 68,
   "id": "3b5f61bf",
   "metadata": {},
   "outputs": [
    {
     "name": "stdout",
     "output_type": "stream",
     "text": [
      "[]\n",
      "['banana', 'cherry', 'apple']\n"
     ]
    }
   ],
   "source": [
    "x= [\"apple\", \"banana\", \"cherry\", \"apple\", \"cherry\"]\n",
    "print(x[-1:-4])\n",
    "print(x[-4:-1])"
   ]
  },
  {
   "cell_type": "markdown",
   "id": "6c0abc05",
   "metadata": {},
   "source": [
    "# Extend List\n",
    "To append elements from another list to the current list, use the extend() method."
   ]
  },
  {
   "cell_type": "code",
   "execution_count": 40,
   "id": "eadbbafb",
   "metadata": {},
   "outputs": [
    {
     "name": "stdout",
     "output_type": "stream",
     "text": [
      "['mango', 'pineapple', 'papaya', 'apple', 'banana', 'cherry']\n"
     ]
    }
   ],
   "source": [
    "x = [\"apple\", \"banana\", \"cherry\"]\n",
    "y = [\"mango\", \"pineapple\", \"papaya\"]\n",
    "y.extend(x)\n",
    "print(y)"
   ]
  },
  {
   "cell_type": "code",
   "execution_count": 4,
   "id": "e9115314",
   "metadata": {},
   "outputs": [
    {
     "name": "stdout",
     "output_type": "stream",
     "text": [
      "['mango', 'pineapple', 'papaya', 'apple', 'banana', 'cherry', 'mango', 'pineapple', 'papaya']\n"
     ]
    }
   ],
   "source": [
    "X = [\"apple\", \"banana\", \"cherry\"]\n",
    "Y = [\"mango\", \"pineapple\", \"papaya\"]\n",
    "y.extend(x)\n",
    "print(y)"
   ]
  },
  {
   "cell_type": "markdown",
   "id": "9d653d95",
   "metadata": {},
   "source": [
    "# Add Any Iterable\n",
    "The extend() method does not have to append lists, you can add any iterable object (tuples, sets, dictionaries etc.)."
   ]
  },
  {
   "cell_type": "code",
   "execution_count": 69,
   "id": "3bc05951",
   "metadata": {},
   "outputs": [
    {
     "name": "stdout",
     "output_type": "stream",
     "text": [
      "[1, 2, 3, 4, 5, 6]\n"
     ]
    }
   ],
   "source": [
    "my_list = [1, 2, 3]\n",
    "my_tuple = (4, 5, 6)\n",
    "my_list.extend(my_tuple)\n",
    "print(my_list)  # Output: [1, 2, 3, 4, 5, 6]\n"
   ]
  },
  {
   "cell_type": "code",
   "execution_count": 70,
   "id": "c4a89c59",
   "metadata": {},
   "outputs": [
    {
     "name": "stdout",
     "output_type": "stream",
     "text": [
      "[1, 2, 3, 8, 9, 7]\n"
     ]
    }
   ],
   "source": [
    "my_list = [1, 2, 3]\n",
    "my_set = {7, 8, 9}\n",
    "my_list.extend(my_set)\n",
    "print(my_list)  # Output: [1, 2, 3, 7, 8, 9]\n"
   ]
  },
  {
   "cell_type": "code",
   "execution_count": 71,
   "id": "6cf9f6f1",
   "metadata": {},
   "outputs": [
    {
     "name": "stdout",
     "output_type": "stream",
     "text": [
      "[1, 2, 3, 'a', 'b']\n"
     ]
    }
   ],
   "source": [
    "#When extending with a dictionary, only the dictionary’s keys are added to the list.\n",
    "my_list = [1, 2, 3]\n",
    "my_dict = {'a': 10, 'b': 20}\n",
    "my_list.extend(my_dict)\n",
    "print(my_list)  # Output: [1, 2, 3, 'a', 'b']\n"
   ]
  },
  {
   "cell_type": "markdown",
   "id": "1a771321",
   "metadata": {},
   "source": [
    "# extend() vs append():\n",
    "\n",
    "extend() adds each element of the iterable to the list, whereas append() adds the iterable itself as a single element to the list."
   ]
  },
  {
   "cell_type": "code",
   "execution_count": 72,
   "id": "c488cc75",
   "metadata": {},
   "outputs": [
    {
     "name": "stdout",
     "output_type": "stream",
     "text": [
      "[1, 2, 3, (4, 5, 6)]\n",
      "[1, 2, 3, 4, 5, 6]\n"
     ]
    }
   ],
   "source": [
    "my_list = [1, 2, 3]\n",
    "my_tuple = (4, 5, 6)\n",
    "\n",
    "my_list.append(my_tuple)\n",
    "print(my_list)  # Output: [1, 2, 3, (4, 5, 6)]\n",
    "\n",
    "my_list = [1, 2, 3]\n",
    "my_list.extend(my_tuple)\n",
    "print(my_list)  # Output: [1, 2, 3, 4, 5, 6]\n"
   ]
  },
  {
   "cell_type": "code",
   "execution_count": 42,
   "id": "95903ed5",
   "metadata": {},
   "outputs": [
    {
     "name": "stdout",
     "output_type": "stream",
     "text": [
      "(1, 2, 3, 4, 4)\n",
      "<class 'tuple'>\n"
     ]
    }
   ],
   "source": [
    "x=(1,2,3,4,4)\n",
    "print(x)\n",
    "print(type(x))"
   ]
  },
  {
   "cell_type": "code",
   "execution_count": 25,
   "id": "d7f2f207",
   "metadata": {},
   "outputs": [
    {
     "name": "stdout",
     "output_type": "stream",
     "text": [
      "['a', 'b', 'c', 'd', 1, 2, 3]\n"
     ]
    }
   ],
   "source": [
    "z=[\"a\",\"b\",\"c\",\"d\"]\n",
    "y=(1,2,3)\n",
    "z.extend(y)\n",
    "print(z)"
   ]
  },
  {
   "cell_type": "code",
   "execution_count": 29,
   "id": "d79fd5f8",
   "metadata": {},
   "outputs": [
    {
     "name": "stdout",
     "output_type": "stream",
     "text": [
      "['a', 'b', 'c', 1, 2, 3]\n"
     ]
    }
   ],
   "source": [
    "x=[\"a\",\"b\",\"c\"]\n",
    "y={1,2,3}\n",
    "x.extend(y)\n",
    "print(x)"
   ]
  },
  {
   "cell_type": "markdown",
   "id": "423937ab",
   "metadata": {},
   "source": [
    "# Python - Remove List Items\n",
    "The remove() method removes the specified item."
   ]
  },
  {
   "cell_type": "code",
   "execution_count": 100,
   "id": "358cf477",
   "metadata": {},
   "outputs": [
    {
     "name": "stdout",
     "output_type": "stream",
     "text": [
      "['banana', 'cherry']\n"
     ]
    }
   ],
   "source": [
    "x = [\"apple\", \"banana\", \"cherry\"]\n",
    "x.remove(\"apple\")\n",
    "print(x)"
   ]
  },
  {
   "cell_type": "markdown",
   "id": "b04b8847",
   "metadata": {},
   "source": [
    "# Remove Specified Index\n",
    "The pop() method removes the specified index."
   ]
  },
  {
   "cell_type": "code",
   "execution_count": 44,
   "id": "39fcd51f",
   "metadata": {},
   "outputs": [
    {
     "name": "stdout",
     "output_type": "stream",
     "text": [
      "['apple', 'banana']\n"
     ]
    }
   ],
   "source": [
    "x = [\"apple\", \"banana\", \"cherry\"]\n",
    "x.pop(2)\n",
    "print(x)"
   ]
  },
  {
   "cell_type": "code",
   "execution_count": 101,
   "id": "473511a7",
   "metadata": {},
   "outputs": [
    {
     "name": "stdout",
     "output_type": "stream",
     "text": [
      "['apple', 'banana', 'cherry', '326436']\n"
     ]
    }
   ],
   "source": [
    "x = [\"apple\", \"banana\", \"cherry\",\"326436\",\"33484584495u9\"]\n",
    "x.pop()\n",
    "print(x)"
   ]
  },
  {
   "cell_type": "code",
   "execution_count": 31,
   "id": "e9193ca7",
   "metadata": {},
   "outputs": [
    {
     "name": "stdout",
     "output_type": "stream",
     "text": [
      "['banana', 'cherry']\n"
     ]
    }
   ],
   "source": [
    "# If you do not specify the index, the pop() method removes the last item\n",
    "x = [\"apple\", \"banana\", \"cherry\"]\n",
    "x.pop(0)\n",
    "print(x)"
   ]
  },
  {
   "cell_type": "markdown",
   "id": "ba94b92e",
   "metadata": {},
   "source": [
    "# Clear the List\n",
    "The clear() method empties the list.\n",
    "\n",
    "The list still remains, but it has no content."
   ]
  },
  {
   "cell_type": "code",
   "execution_count": 35,
   "id": "194e1164",
   "metadata": {},
   "outputs": [
    {
     "name": "stdout",
     "output_type": "stream",
     "text": [
      "[]\n"
     ]
    }
   ],
   "source": [
    "x = [\"apple\", \"banana\", \"cherry\"]\n",
    "x.clear()\n",
    "print(x)"
   ]
  },
  {
   "cell_type": "markdown",
   "id": "95c478fa",
   "metadata": {},
   "source": [
    "# List Comprehension\n",
    "List comprehension offers a shorter syntax when you want to create a new list based on the values of an existing list.\n",
    "\n",
    "Example:\n",
    "\n",
    "Based on a list of fruits, you want a new list, containing only the fruits with the letter \"a\" in the name.\n",
    "\n",
    "Without list comprehension you will have to write a for statement with a conditional test inside:"
   ]
  },
  {
   "cell_type": "code",
   "execution_count": 1,
   "id": "bb0a6096",
   "metadata": {},
   "outputs": [],
   "source": [
    "# [expression for item in iterable if condition]\n"
   ]
  },
  {
   "cell_type": "markdown",
   "id": "5f551252",
   "metadata": {},
   "source": [
    "expression: The value to include in the list, often involving the item.\n",
    "item: The variable representing each element in the iterable.\n",
    "iterable: A sequence (like a list, tuple, or range) that you loop over.\n",
    "condition (optional): A filter that determines whether to include the item in the output"
   ]
  },
  {
   "cell_type": "code",
   "execution_count": 35,
   "id": "c3f63df9",
   "metadata": {},
   "outputs": [
    {
     "data": {
      "text/plain": [
       "True"
      ]
     },
     "execution_count": 35,
     "metadata": {},
     "output_type": "execute_result"
    }
   ],
   "source": [
    "2%2==0"
   ]
  },
  {
   "cell_type": "code",
   "execution_count": 36,
   "id": "39a32550",
   "metadata": {},
   "outputs": [
    {
     "name": "stdout",
     "output_type": "stream",
     "text": [
      "0\n",
      "1\n",
      "2\n",
      "3\n",
      "4\n",
      "5\n",
      "6\n",
      "7\n",
      "8\n",
      "9\n"
     ]
    }
   ],
   "source": [
    "for i in range (10):\n",
    "    print(i)"
   ]
  },
  {
   "cell_type": "code",
   "execution_count": 37,
   "id": "15e4a5e5",
   "metadata": {},
   "outputs": [
    {
     "data": {
      "text/plain": [
       "[0, 1, 2, 3, 4, 5, 6, 7, 8, 9]"
      ]
     },
     "execution_count": 37,
     "metadata": {},
     "output_type": "execute_result"
    }
   ],
   "source": [
    "x=[x for x in range(10)]\n",
    "x"
   ]
  },
  {
   "cell_type": "code",
   "execution_count": 4,
   "id": "a1b3e3fc",
   "metadata": {},
   "outputs": [
    {
     "data": {
      "text/plain": [
       "[0, 4, 16, 36, 64]"
      ]
     },
     "execution_count": 4,
     "metadata": {},
     "output_type": "execute_result"
    }
   ],
   "source": [
    "# To create a list of squares for even numbers from 0 to 9:\n",
    "squares = [x**2 for x in range(10) if x % 2 == 0]  # 0,9\n",
    "squares"
   ]
  },
  {
   "cell_type": "code",
   "execution_count": 4,
   "id": "1cb47f2b",
   "metadata": {},
   "outputs": [
    {
     "name": "stdout",
     "output_type": "stream",
     "text": [
      "['apple', 'banana', 'mango']\n"
     ]
    }
   ],
   "source": [
    "# \n",
    "fruits = [\"apple\", \"banana\", \"cherry\", \"kiwi\", \"mango\"]\n",
    "newlist = []\n",
    "\n",
    "for x in fruits:\n",
    "  if \"a\" in x:\n",
    "    newlist.append(x)\n",
    "\n",
    "print(newlist)"
   ]
  },
  {
   "cell_type": "code",
   "execution_count": 5,
   "id": "c9e4a9c2",
   "metadata": {},
   "outputs": [
    {
     "name": "stdout",
     "output_type": "stream",
     "text": [
      "['banana', 'mango']\n"
     ]
    }
   ],
   "source": [
    "fruits = [\"apple\", \"banana\", \"cherry\", \"kiwi\", \"mango\"]\n",
    "\n",
    "newlist = [x for x in fruits if \"n\" in x]\n",
    "\n",
    "print(newlist)"
   ]
  },
  {
   "cell_type": "code",
   "execution_count": 105,
   "id": "540a52a3",
   "metadata": {},
   "outputs": [
    {
     "name": "stdout",
     "output_type": "stream",
     "text": [
      "['list ']\n"
     ]
    }
   ],
   "source": [
    "t=[\" comprehension \",\"list \"]\n",
    "n=[y for y in t if \"l\" in y]\n",
    "print(n)"
   ]
  },
  {
   "cell_type": "markdown",
   "id": "0ff0c9b0",
   "metadata": {},
   "source": [
    "# Python - Sort Lists\n",
    "## Sort List Alphanumerically\n",
    "List objects have a sort() method that will sort the list alphanumerically, ascending, by default:"
   ]
  },
  {
   "cell_type": "code",
   "execution_count": 7,
   "id": "95578b3e",
   "metadata": {},
   "outputs": [
    {
     "name": "stdout",
     "output_type": "stream",
     "text": [
      "['banana', 'kiwi', 'mango', 'orange', 'pineapple']\n"
     ]
    }
   ],
   "source": [
    "thislist = [\"orange\", \"mango\", \"kiwi\", \"pineapple\", \"banana\"]\n",
    "thislist.sort() \n",
    "print(thislist)\n"
   ]
  },
  {
   "cell_type": "markdown",
   "id": "194ab706",
   "metadata": {},
   "source": [
    "# Sort Descending\n",
    "To sort descending, use the keyword argument reverse = True:"
   ]
  },
  {
   "cell_type": "code",
   "execution_count": 38,
   "id": "fe10ad4c",
   "metadata": {},
   "outputs": [
    {
     "name": "stdout",
     "output_type": "stream",
     "text": [
      "Ascending: [8, 12, 23, 34, 67, 99]\n",
      "Descending: [99, 67, 34, 23, 12, 8]\n"
     ]
    }
   ],
   "source": [
    "numbers = [34, 12, 67, 8, 99, 23]\n",
    "\n",
    "# Sorting in ascending order (default behavior)\n",
    "numbers.sort(reverse=False)  # This is the default behavior, no need to specify reverse=False\n",
    "print(\"Ascending:\", numbers)  # Output: [8, 12, 23, 34, 67, 99]\n",
    "\n",
    "# Sorting in descending order\n",
    "numbers.sort(reverse=True)\n",
    "print(\"Descending:\", numbers)  # Output: [99, 67, 34, 23, 12, 8]\n"
   ]
  },
  {
   "cell_type": "code",
   "execution_count": 8,
   "id": "d2c965ba",
   "metadata": {},
   "outputs": [
    {
     "name": "stdout",
     "output_type": "stream",
     "text": [
      "['banana', 'kiwi', 'mango', 'orange', 'pineapple']\n"
     ]
    }
   ],
   "source": [
    "thislist = [\"orange\", \"mango\", \"kiwi\", \"pineapple\", \"banana\"]\n",
    "thislist.sort(reverse = False)\n",
    "print(thislist)"
   ]
  },
  {
   "cell_type": "code",
   "execution_count": 108,
   "id": "2e7a356f",
   "metadata": {},
   "outputs": [
    {
     "name": "stdout",
     "output_type": "stream",
     "text": [
      "[100, 82, 65, 50, 23]\n"
     ]
    }
   ],
   "source": [
    "# Sort the list descending:\n",
    "\n",
    "thislist = [100, 50, 65, 82, 23]\n",
    "thislist.sort(reverse = True)\n",
    "print(thislist)"
   ]
  },
  {
   "cell_type": "code",
   "execution_count": 109,
   "id": "12d7b9d3",
   "metadata": {},
   "outputs": [
    {
     "name": "stdout",
     "output_type": "stream",
     "text": [
      "[38, 9, 2, 1]\n"
     ]
    }
   ],
   "source": [
    "x=[1,2,38,9]\n",
    "x.sort(reverse = True)\n",
    "print(x)"
   ]
  },
  {
   "cell_type": "markdown",
   "id": "d9bb8517",
   "metadata": {},
   "source": [
    "# Python - Join Lists\n",
    "## Join Two Lists\n",
    "There are several ways to join, or concatenate, two or more lists in Python.\n",
    "\n",
    "One of the easiest ways are by using the + operator."
   ]
  },
  {
   "cell_type": "code",
   "execution_count": 41,
   "id": "41b0bfa7",
   "metadata": {},
   "outputs": [
    {
     "name": "stdout",
     "output_type": "stream",
     "text": [
      "3\n",
      "3\n"
     ]
    }
   ],
   "source": [
    "y=[1,2,3,3,3,4,4,5,5,5,6,7,8] # 3\n",
    "print(y.count(5))\n",
    "z=y.count(3)\n",
    "print(z)"
   ]
  },
  {
   "cell_type": "code",
   "execution_count": 110,
   "id": "e8d40397",
   "metadata": {},
   "outputs": [
    {
     "name": "stdout",
     "output_type": "stream",
     "text": [
      "['a', 'b', 'c', 1, 2, 3]\n"
     ]
    }
   ],
   "source": [
    "list1 = [\"a\", \"b\", \"c\"]\n",
    "list2 = [1, 2, 3]\n",
    "\n",
    "list3 = list1 + list2\n",
    "print(list3)"
   ]
  },
  {
   "cell_type": "markdown",
   "id": "2135c0a9",
   "metadata": {},
   "source": [
    "### You can access individual characters from a string using indexing:\n"
   ]
  },
  {
   "cell_type": "code",
   "execution_count": 26,
   "id": "37af19cc",
   "metadata": {},
   "outputs": [
    {
     "name": "stdout",
     "output_type": "stream",
     "text": [
      "3\n",
      "3\n",
      "1\n"
     ]
    }
   ],
   "source": [
    "x=[1,2,3,4,5,7,8,2,4,6,6,1,3,1,\"3\"]\n",
    "Y=x.count(1)\n",
    "print(Y)\n",
    "print(x.count(1))\n",
    "print(x.count(\"3\"))"
   ]
  },
  {
   "cell_type": "code",
   "execution_count": 12,
   "id": "b94358ca",
   "metadata": {},
   "outputs": [
    {
     "name": "stdout",
     "output_type": "stream",
     "text": [
      "h\n",
      "h a\n"
     ]
    }
   ],
   "source": [
    "# Character\n",
    "x=\"chandana\"\n",
    "y=x[1]\n",
    "z=x[2]\n",
    "print(y)\n",
    "print(y,z)"
   ]
  },
  {
   "cell_type": "markdown",
   "id": "02d57006",
   "metadata": {},
   "source": [
    "## count() : Return number of occurrences of value."
   ]
  },
  {
   "cell_type": "code",
   "execution_count": 42,
   "id": "1c676695",
   "metadata": {},
   "outputs": [
    {
     "name": "stdout",
     "output_type": "stream",
     "text": [
      "4\n"
     ]
    }
   ],
   "source": [
    "L1 = [1,2,3,1,5,2,1,1]\n",
    "print(L1.count(1))"
   ]
  },
  {
   "cell_type": "markdown",
   "id": "66ba7ace",
   "metadata": {},
   "source": [
    "## max()"
   ]
  },
  {
   "cell_type": "code",
   "execution_count": 43,
   "id": "f58791a1",
   "metadata": {},
   "outputs": [
    {
     "name": "stdout",
     "output_type": "stream",
     "text": [
      "9\n"
     ]
    }
   ],
   "source": [
    "L1 = [1,2,3,1,5,2,1,1,9]\n",
    "print(max(L1))"
   ]
  },
  {
   "cell_type": "markdown",
   "id": "02fd370b",
   "metadata": {},
   "source": [
    "## min()"
   ]
  },
  {
   "cell_type": "code",
   "execution_count": 44,
   "id": "d5d14884",
   "metadata": {},
   "outputs": [
    {
     "name": "stdout",
     "output_type": "stream",
     "text": [
      "1\n"
     ]
    }
   ],
   "source": [
    "L1 = [1,2,3,1,5,2,11,19]\n",
    "print(min(L1))"
   ]
  },
  {
   "cell_type": "markdown",
   "id": "30d9e4ed",
   "metadata": {},
   "source": [
    "# reverse()"
   ]
  },
  {
   "cell_type": "code",
   "execution_count": 15,
   "id": "f17b7d0f",
   "metadata": {},
   "outputs": [
    {
     "name": "stdout",
     "output_type": "stream",
     "text": [
      "Created list is : [1, 2, 3, 4, 5]\n",
      "List after Reverse operation :  [5, 4, 3, 2, 1]\n"
     ]
    }
   ],
   "source": [
    "L1 = [1,2,3,4,5]\n",
    "print(\"Created list is :\",L1)\n",
    "L1.reverse()\n",
    "print(\"List after Reverse operation : \",L1)"
   ]
  },
  {
   "cell_type": "code",
   "execution_count": 14,
   "id": "8b54eda3",
   "metadata": {},
   "outputs": [
    {
     "name": "stdout",
     "output_type": "stream",
     "text": [
      "gnirts\n",
      "[5, 4, 3, 2, 1]\n"
     ]
    }
   ],
   "source": [
    "x=\"string\"# 0 \n",
    "print(x[::-1])\n",
    "L1 = [1,2,3,4,5]\n",
    "print(L1[::-1]) "
   ]
  },
  {
   "cell_type": "code",
   "execution_count": 16,
   "id": "2b317fc4",
   "metadata": {},
   "outputs": [
    {
     "name": "stdout",
     "output_type": "stream",
     "text": [
      "1) created list :  ['a', 'b', 'c', 'd']\n",
      "2) list after append operation :  ['a', 'b', 'c', 'd', 'e']\n",
      "3) accessing items in a list :  b\n",
      "4) changing item in the list :  ['a', 'A', 'c', 'd', 'e']\n",
      "5) after removing an item :  ['A', 'c', 'd', 'e']\n",
      "6) after pop operation ;  e\n",
      "6.1 )  ['A', 'c', 'd']\n",
      "8) performing sort on list\n",
      "[0, 1, 2, 2, 3, 3, 7, 9]\n",
      "12) extend methon\n",
      "['A', 'c', 'd', 0, 1, 2, 2, 3, 3, 7, 9]\n",
      "1\n",
      "[9, 7, 3, 3, 2, 2, 1, 0, 'd', 'c', 'A']\n"
     ]
    }
   ],
   "source": [
    "#creating a list\n",
    "list=[\"a\",\"b\",\"c\",\"d\"]\n",
    "print(\"1) created list : \",list)\n",
    "\n",
    "#appending elements in a list\n",
    "list.append(\"e\")\n",
    "print(\"2) list after append operation : \",list)\n",
    "\n",
    "#accessing item in a list\n",
    "print(\"3) accessing items in a list : \",list[1])\n",
    "\n",
    "#changing item in a list\n",
    "list[1]=\"A\"\n",
    "print(\"4) changing item in the list : \",list)\n",
    "\n",
    "#removing item in a list\n",
    "list.remove(\"a\")\n",
    "print(\"5) after removing an item : \",list)\n",
    "\n",
    "#pop()\n",
    "#remove item in a specified index\n",
    "print(\"6) after pop operation ; \",list.pop(3))\n",
    "print(\"6.1 ) \",list)\n",
    "\n",
    "# #loop through a list\n",
    "# print(\"7) loop through list:\")\n",
    "# for i in list:\n",
    "#     print(i)\n",
    "\n",
    "#sort function\n",
    "print(\"8) performing sort on list\")\n",
    "L1=[1,2,3,7,3,9,2,0]\n",
    "L1.sort()\n",
    "print(L1)\n",
    "\n",
    "# #coping a list\n",
    "# print(\"9) coping list\")\n",
    "L2=L1.copy()\n",
    "# print(L2)\n",
    "\n",
    "# #joining two list\n",
    "# print(\"10) joining two list\")\n",
    "# L3=L1+L2\n",
    "# print(L3)\n",
    "\n",
    "# #appending one list into the other list\n",
    "# print(\"11) appending one list into the other list\")\n",
    "# for i in L2:\n",
    "#     L1.append(i)\n",
    "# print(L1)\n",
    "\n",
    "# extend()\n",
    "print(\"12) extend methon\")\n",
    "list.extend(L2)\n",
    "print(list)\n",
    "#print(L2)\n",
    "\n",
    "# #count()\n",
    "print(list.count(\"A\"))\n",
    "\n",
    "# #max()\n",
    "# print(max([1, 2, 2, 3, 3, 7, 9]))\n",
    "\n",
    "# #min()\n",
    "# print(min([1, 2, 2, 3, 3, 7, 9]))\n",
    "\n",
    "# #reverse()\n",
    "list.reverse()\n",
    "print(list)\n",
    "\n",
    "#clear()\n",
    "# list.clear()\n",
    "# print(list)"
   ]
  },
  {
   "cell_type": "code",
   "execution_count": null,
   "id": "af350400",
   "metadata": {},
   "outputs": [],
   "source": []
  }
 ],
 "metadata": {
  "kernelspec": {
   "display_name": "Python 3 (ipykernel)",
   "language": "python",
   "name": "python3"
  },
  "language_info": {
   "codemirror_mode": {
    "name": "ipython",
    "version": 3
   },
   "file_extension": ".py",
   "mimetype": "text/x-python",
   "name": "python",
   "nbconvert_exporter": "python",
   "pygments_lexer": "ipython3",
   "version": "3.9.13"
  }
 },
 "nbformat": 4,
 "nbformat_minor": 5
}
